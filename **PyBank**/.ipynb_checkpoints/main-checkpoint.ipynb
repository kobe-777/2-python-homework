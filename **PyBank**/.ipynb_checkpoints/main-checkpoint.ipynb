{
 "cells": [
  {
   "cell_type": "code",
   "execution_count": 1,
   "id": "fdc6fdc3-ba6f-454f-a6f6-7b7f52970516",
   "metadata": {
    "tags": []
   },
   "outputs": [
    {
     "name": "stdout",
     "output_type": "stream",
     "text": [
      "Financial Analysis\n",
      "----------------------------\n",
      "Total Months: 86\n",
      "Total: $38382578\n",
      "Average  Change: $451559.74\n",
      "Greatest Increase in Profits: Feb-2012 ($1926159)\n",
      "Greatest Decrease in Profits: Sep-2013 ($-2196167)\n"
     ]
    }
   ],
   "source": [
    "from pathlib import Path\n",
    "import csv\n",
    "\n",
    "# Set the file path\n",
    "csvpath = Path(\"Resources/budget_data.csv\")\n",
    "\n",
    "# Initialize variables to hold metrics\n",
    "total_months = 0\n",
    "total_profit_loss = 0\n",
    "previous_profit_loss = 0\n",
    "average_change = 0\n",
    "greatest_increase = {\"date\": \"\", \"amount\": 0}\n",
    "greatest_decrease = {\"date\": \"\", \"amount\": 0}\n",
    "\n",
    "# Read the file\n",
    "with open(csvpath, newline=\"\") as csvfile:\n",
    "    csvreader = csv.reader(csvfile, delimiter=\",\")\n",
    "    \n",
    "    # Go to the next row from the start of the file\n",
    "    header = next(csvreader)\n",
    "    \n",
    "    # Loop through the rows in the CSV file\n",
    "    for row in csvreader:\n",
    "        \n",
    "        # Extract date and profit/loss\n",
    "        date = row[0]\n",
    "        profit_loss = int(row[1])\n",
    "        \n",
    "        # Calculate total months and total profit/loss\n",
    "        total_months += 1\n",
    "        total_profit_loss += profit_loss\n",
    "        \n",
    "        # Calculate the change in profit/loss\n",
    "        change = profit_loss - previous_profit_loss\n",
    "        \n",
    "        # Update the greatest increase and decrease\n",
    "        if change > greatest_increase[\"amount\"]:\n",
    "            greatest_increase[\"date\"] = date\n",
    "            greatest_increase[\"amount\"] = change\n",
    "        elif change < greatest_decrease[\"amount\"]:\n",
    "            greatest_decrease[\"date\"] = date\n",
    "            greatest_decrease[\"amount\"] = change\n",
    "        \n",
    "        # Update the previous profit/loss for the next iteration\n",
    "        previous_profit_loss = profit_loss\n",
    "\n",
    "# Calculate the average change\n",
    "average_change = round(total_profit_loss / (total_months - 1), 2)\n",
    "\n",
    "# Print the analysis to the terminal\n",
    "print(\"Financial Analysis\")\n",
    "print(\"----------------------------\")\n",
    "print(f\"Total Months: {total_months}\")\n",
    "print(f\"Total: ${total_profit_loss}\")\n",
    "print(f\"Average  Change: ${average_change}\")\n",
    "print(f\"Greatest Increase in Profits: {greatest_increase['date']} (${greatest_increase['amount']})\")\n",
    "print(f\"Greatest Decrease in Profits: {greatest_decrease['date']} (${greatest_decrease['amount']})\")\n",
    "\n",
    "# Export the results to a text file\n",
    "output_file = \"financial_analysis.txt\"\n",
    "with open(output_file, \"w\") as textfile:\n",
    "    textfile.write(\"Financial Analysis\\n\")\n",
    "    textfile.write(\"----------------------------\\n\")\n",
    "    textfile.write(f\"Total Months: {total_months}\\n\")\n",
    "    textfile.write(f\"Total: ${total_profit_loss}\\n\")\n",
    "    textfile.write(f\"Average  Change: ${average_change}\\n\")\n",
    "    textfile.write(f\"Greatest Increase in Profits: {greatest_increase['date']} (${greatest_increase['amount']})\\n\")\n",
    "    textfile.write(f\"Greatest Decrease in Profits: {greatest_decrease['date']} (${greatest_decrease['amount']})\\n\")"
   ]
  }
 ],
 "metadata": {
  "kernelspec": {
   "display_name": "Python 3 (ipykernel)",
   "language": "python",
   "name": "python3"
  },
  "language_info": {
   "codemirror_mode": {
    "name": "ipython",
    "version": 3
   },
   "file_extension": ".py",
   "mimetype": "text/x-python",
   "name": "python",
   "nbconvert_exporter": "python",
   "pygments_lexer": "ipython3",
   "version": "3.11.5"
  }
 },
 "nbformat": 4,
 "nbformat_minor": 5
}
