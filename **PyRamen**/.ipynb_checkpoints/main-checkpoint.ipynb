{
 "cells": [
  {
   "cell_type": "code",
   "execution_count": 2,
   "id": "77605349-e2a7-4d56-b7ff-78da2d9de983",
   "metadata": {
    "tags": []
   },
   "outputs": [
    {
     "name": "stderr",
     "output_type": "stream",
     "text": [
      "IOPub data rate exceeded.\n",
      "The Jupyter server will temporarily stop sending output\n",
      "to the client in order to avoid crashing it.\n",
      "To change this limit, set the config variable\n",
      "`--ServerApp.iopub_data_rate_limit`.\n",
      "\n",
      "Current values:\n",
      "ServerApp.iopub_data_rate_limit=1000000.0 (bytes/sec)\n",
      "ServerApp.rate_limit_window=3.0 (secs)\n",
      "\n"
     ]
    }
   ],
   "source": [
    "from pathlib import Path\n",
    "import csv\n",
    "\n",
    "# Initialize empty lists to hold menu and sales data\n",
    "menu = []\n",
    "sales = []\n",
    "\n",
    "# Read in menu_data.csv\n",
    "with open('menu_data.csv', 'r', newline='') as menu_file:\n",
    "    menu_reader = csv.reader(menu_file)\n",
    "    next(menu_reader)  # Skip the header row\n",
    "    for row in menu_reader:\n",
    "        menu.append(row)\n",
    "\n",
    "# Read in sales_data.csv\n",
    "with open('sales_data.csv', 'r', newline='') as sales_file:\n",
    "    sales_reader = csv.reader(sales_file)\n",
    "    next(sales_reader)  # Skip the header row\n",
    "    for row in sales_reader:\n",
    "        sales.append(row)\n",
    "\n",
    "# Initialize an empty report dictionary to store per-product metrics\n",
    "report = {}\n",
    "\n",
    "# Loop through every row in the sales data\n",
    "for sale in sales:\n",
    "    # Extract quantity and menu item\n",
    "    quantity = int(sale[3])\n",
    "    sales_item = sale[4]\n",
    "    \n",
    "    # If sales_item is not in the report, initialize its metrics\n",
    "    if sales_item not in report:\n",
    "        report[sales_item] = {\n",
    "            \"01-count\": 0,\n",
    "            \"02-revenue\": 0,\n",
    "            \"03-cogs\": 0,\n",
    "            \"04-profit\": 0,\n",
    "        }\n",
    "    \n",
    "    # Loop through every row in the menu data to find matching menu item\n",
    "    for menu_item in menu:\n",
    "        item = menu_item[0]\n",
    "        price = float(menu_item[3])\n",
    "        cost = float(menu_item[4])\n",
    "        \n",
    "        # If there's a match, calculate and update metrics in the report\n",
    "        if sales_item == item:\n",
    "            profit = price - cost\n",
    "            report[sales_item][\"01-count\"] += quantity\n",
    "            report[sales_item][\"02-revenue\"] += price * quantity\n",
    "            report[sales_item][\"03-cogs\"] += cost * quantity\n",
    "            report[sales_item][\"04-profit\"] += profit * quantity\n",
    "        else:\n",
    "            print(f\"{sales_item} does not equal {item}! NO MATCH!\")\n",
    "\n",
    "# Write the report to a text file\n",
    "with open('report.txt', 'w') as report_file:\n",
    "    for item, metrics in report.items():\n",
    "        report_file.write(f\"{item} {metrics}\\n\")"
   ]
  },
  {
   "cell_type": "code",
   "execution_count": null,
   "id": "d28d624e-2fa0-48cd-8d6d-8de830c4b50b",
   "metadata": {},
   "outputs": [],
   "source": []
  }
 ],
 "metadata": {
  "kernelspec": {
   "display_name": "Python 3 (ipykernel)",
   "language": "python",
   "name": "python3"
  },
  "language_info": {
   "codemirror_mode": {
    "name": "ipython",
    "version": 3
   },
   "file_extension": ".py",
   "mimetype": "text/x-python",
   "name": "python",
   "nbconvert_exporter": "python",
   "pygments_lexer": "ipython3",
   "version": "3.11.4"
  }
 },
 "nbformat": 4,
 "nbformat_minor": 5
}
